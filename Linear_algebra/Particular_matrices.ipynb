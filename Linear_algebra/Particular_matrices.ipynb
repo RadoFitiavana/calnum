{
 "cells": [
  {
   "cell_type": "markdown",
   "id": "cd38be1f",
   "metadata": {},
   "source": [
    "# Properties of paticular matrices"
   ]
  },
  {
   "cell_type": "markdown",
   "id": "43f8a2fd",
   "metadata": {},
   "source": [
    "## 1. Inverse of triangular matrices\n",
    "\n",
    "Let's denote $\\mathbb{L}_n$ and $\\mathbb{U}_n$ respectively the set of $n^{th}$ order lower invertible triangular matrices and $n^{th}$ order upper invertible triangular matrices\n",
    "\n",
    "### Proposition 1.1\n",
    "$\\mathbb{L}_n$ and $\\mathbb{U}_n$ are groups associated to matrices multiplication.\n",
    "#### Proof\n",
    "We write the proof only for the lower case; the upper case is similar by replacing lower operations to upper operations.<br>\n",
    "Let $A, B \\in \\mathbb{L}_n$.<br> \n",
    "$$\n",
    "(AB)_{i,j} = \\sum_{k=1}^{n} A_{i,k} B_{k,j} \\\\\n",
    "(AB)_{i,j} = \\sum_{k=1}^{i} A_{i,k} B_{k,j}\n",
    "$$ <br>\n",
    "If $i \\leq j-1$ then $B_{k,j} = 0$ for all $k=1,..,i$ and $(AB)_{i,j}=0$.<br>\n",
    "That means $AB$ is lower trinagular.<br>\n",
    "We have $|AB| = |A||B|$ which is <strong>not null</strong>. <br>\n",
    "Then $AB \\in \\mathbb{L}_n$.<br>\n",
    "We will use Gaussian elimination to find the inverse of $A$: applying Gaussian eliminiation on $[ A | I_n]$ where $I_n$ is the $n^{th}$ order identity matrix.<br>\n",
    "While $A$ is lower triangular, we need only to eliminate elements under diagonal, at the right side of $[A|I_n]$, only the elements under diagonal will be changed and the rest still $0$.<br>\n",
    "The at the end, we will obtain again a lower triangular matrix, that means $A^{-1}$ is lower triangular.<br>\n",
    "We have $|A^{-1}| = \\frac{1}{|A|}$ which is <strong>not null</strong>, then $A^{-1} \\in \\mathbb{L}_n$.<br>\n",
    "We conclude that $\\mathbb{L}_n$ is a sub-group of $\\mathbb{GL}_n$.\n",
    "\n",
    "#### Property\n",
    "The inverse of an invertible triangular matrix is also triangular of the same form.\n",
    "\n",
    "### Proposition 1.2\n",
    "Let \n",
    "$$\n",
    "M = \n",
    "\\begin{bmatrix}\n",
    "1 & &\\\\\n",
    "& \\ddots \\\\\n",
    "A & & 1\n",
    "\\end{bmatrix}\n",
    "\\quad{and}\\ \\ N =\n",
    "\\begin{bmatrix}\n",
    "1 & & B\\\\\n",
    "& \\ddots \\\\\n",
    "& & 1\n",
    "\\end{bmatrix}\n",
    "\\quad\n",
    "\\ \\ \\text{Where $A$ and $B$ are matrices blocs}\n",
    "$$ <br>\n",
    "Then we have\n",
    "$$\n",
    "M^{-1} = \n",
    "\\begin{bmatrix}\n",
    "1 & &\\\\\n",
    "& \\ddots \\\\\n",
    "-A & & 1\n",
    "\\end{bmatrix}\n",
    "\\quad{and}\\ \\ N^{-1} =\n",
    "\\begin{bmatrix}\n",
    "1 & & -B\\\\\n",
    "& \\ddots \\\\\n",
    "& & 1\n",
    "\\end{bmatrix}\n",
    "$$\n",
    "#### Property\n",
    "If $M$ is a triangular matrix with <strong>null</strong> diagonal, then $(I+M)^{-1} = I-M$."
   ]
  },
  {
   "cell_type": "code",
   "execution_count": null,
   "id": "71a46692",
   "metadata": {},
   "outputs": [],
   "source": []
  }
 ],
 "metadata": {
  "kernelspec": {
   "display_name": "Python 3 (ipykernel)",
   "language": "python",
   "name": "python3"
  },
  "language_info": {
   "codemirror_mode": {
    "name": "ipython",
    "version": 3
   },
   "file_extension": ".py",
   "mimetype": "text/x-python",
   "name": "python",
   "nbconvert_exporter": "python",
   "pygments_lexer": "ipython3",
   "version": "3.9.12"
  }
 },
 "nbformat": 4,
 "nbformat_minor": 5
}
